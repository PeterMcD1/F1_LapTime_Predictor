{
 "cells": [
  {
   "cell_type": "code",
   "execution_count": 1,
   "id": "71c5b78b-1f1a-4465-b8a0-989c28c25450",
   "metadata": {},
   "outputs": [],
   "source": [
    "import fastf1\n",
    "fastf1.Cache.enable_cache('C:\\\\Users\\\\Helen DuPree\\\\Desktop\\\\cache')"
   ]
  },
  {
   "cell_type": "code",
   "execution_count": 7,
   "id": "93f392b4-f6fe-4a98-ba92-e0639718c341",
   "metadata": {},
   "outputs": [],
   "source": [
    "driverCodes = [\"VER\", \"HAM\", \"BOT\", \"RIC\", \"VET\", \"RAI\", \"GIO\", \"HUL\", \"HAR\", \"GAS\", \"SAI\", \"OCO\", \"PER\", \"MAG\", \"GRO\", \"ALO\", \"STR\", \"LEC\", \"SIR\",\"VAN\"] "
   ]
  },
  {
   "cell_type": "code",
   "execution_count": 22,
   "id": "d55ca41c-34d3-47a7-8967-39129e7f0082",
   "metadata": {},
   "outputs": [
    {
     "name": "stderr",
     "output_type": "stream",
     "text": [
      "core           INFO \tLoading data for Italian Grand Prix - Race [v2.3.0]\n",
      "api            INFO \tUsing cached data for driver_info\n",
      "api            INFO \tUsing cached data for timing_data\n",
      "api            INFO \tUsing cached data for timing_app_data\n",
      "core           INFO \tProcessing timing data...\n",
      "api            INFO \tUsing cached data for session_status_data\n",
      "api            INFO \tUsing cached data for track_status_data\n",
      "api            INFO \tUsing cached data for car_data\n",
      "api            INFO \tUsing cached data for position_data\n",
      "api            INFO \tUsing cached data for weather_data\n",
      "api            INFO \tUsing cached data for race_control_messages\n",
      "core           INFO \tFinished loading data for 20 drivers: ['44', '7', '77', '5', '33', '31', '11', '55', '18', '35', '16', '2', '27', '10', '9', '20', '3', '14', '28', '8']\n"
     ]
    },
    {
     "name": "stdout",
     "output_type": "stream",
     "text": [
      "212          NaN\n",
      "213    SUPERSOFT\n",
      "214    SUPERSOFT\n",
      "215    SUPERSOFT\n",
      "216    SUPERSOFT\n",
      "217    SUPERSOFT\n",
      "218    SUPERSOFT\n",
      "219    SUPERSOFT\n",
      "220    SUPERSOFT\n",
      "221    SUPERSOFT\n",
      "222    SUPERSOFT\n",
      "223    SUPERSOFT\n",
      "224    SUPERSOFT\n",
      "225    SUPERSOFT\n",
      "226    SUPERSOFT\n",
      "227    SUPERSOFT\n",
      "228    SUPERSOFT\n",
      "229    SUPERSOFT\n",
      "230    SUPERSOFT\n",
      "231    SUPERSOFT\n",
      "232    SUPERSOFT\n",
      "233    SUPERSOFT\n",
      "234    SUPERSOFT\n",
      "235    SUPERSOFT\n",
      "236    SUPERSOFT\n",
      "237    SUPERSOFT\n",
      "238         SOFT\n",
      "239         SOFT\n",
      "240         SOFT\n",
      "241         SOFT\n",
      "242         SOFT\n",
      "243         SOFT\n",
      "244         SOFT\n",
      "245         SOFT\n",
      "246         SOFT\n",
      "247         SOFT\n",
      "248         SOFT\n",
      "249         SOFT\n",
      "250         SOFT\n",
      "251         SOFT\n",
      "252         SOFT\n",
      "253         SOFT\n",
      "254         SOFT\n",
      "255         SOFT\n",
      "256         SOFT\n",
      "257         SOFT\n",
      "258         SOFT\n",
      "259         SOFT\n",
      "260         SOFT\n",
      "261         SOFT\n",
      "262         SOFT\n",
      "263         SOFT\n",
      "264         SOFT\n",
      "Name: Compound, dtype: object\n"
     ]
    }
   ],
   "source": [
    "\n",
    "session = fastf1.get_session(2018, 'Monza', 'R')\n",
    "session.load(telemetry=True,laps=True)\n",
    "for driver in driverCodes:\n",
    "    driverFile = np.array()\n",
    "    laps = session.laps.pick_driver(driver)\n",
    "    for att in attrib:\n",
    "        driverFile = hstack(driverFile, laps[att])"
   ]
  }
 ],
 "metadata": {
  "kernelspec": {
   "display_name": "Python 3 (ipykernel)",
   "language": "python",
   "name": "python3"
  },
  "language_info": {
   "codemirror_mode": {
    "name": "ipython",
    "version": 3
   },
   "file_extension": ".py",
   "mimetype": "text/x-python",
   "name": "python",
   "nbconvert_exporter": "python",
   "pygments_lexer": "ipython3",
   "version": "3.9.7"
  }
 },
 "nbformat": 4,
 "nbformat_minor": 5
}
