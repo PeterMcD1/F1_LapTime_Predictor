{
 "cells": [
  {
   "cell_type": "code",
   "execution_count": 1,
   "id": "ec886799",
   "metadata": {},
   "outputs": [],
   "source": [
    "import torch\n",
    "import torch.nn as nn\n",
    "import pandas as pd\n",
    "import numpy as np\n",
    "from dateutil.parser import parse\n",
    "import torch.nn.functional as F\n",
    "from torch.utils.data import DataLoader, random_split, TensorDataset\n",
    "import matplotlib.pyplot as plt"
   ]
  },
  {
   "cell_type": "code",
   "execution_count": 2,
   "id": "b20d4784",
   "metadata": {},
   "outputs": [],
   "source": [
    "df = pd.read_csv('F1_4502\\LapAndWeather\\LapWeather_Australian Grand Prix')\n",
    "df = df.drop(['Time','DriverNumber', 'Unnamed: 0', 'LapNumber', 'PitOutTime', 'PitInTime', 'Sector1Time','Sector2Time','Sector3Time','Sector1SessionTime','Sector2SessionTime','Sector3SessionTime','SpeedI1','SpeedI2','SpeedST','IsPersonalBest','FreshTyre','Stint','SpeedFL','LapStartTime','Team','Driver','TrackStatus','IsAccurate'], axis=1)\n",
    "df = df.dropna()\n",
    "\n",
    "dfOutput = df['LapTime']\n",
    "dfInput = df.drop(['LapTime'], axis=1)\n",
    "dfInput = dfInput.replace({'ULTRASOFT': 0, 'SUPERSOFT': 1, 'SOFT': 2,})\n",
    "train_inputs = dfInput.to_numpy()\n",
    "train_targets = dfOutput.to_numpy()\n",
    "for i in range(len(train_targets)):\n",
    "    train_targets[i] = train_targets[i].replace('0 days ', '')\n",
    "actual_train_targets = []\n",
    "for time in train_targets:\n",
    "    td = parse(time) - parse('00:00:00')\n",
    "    seconds = td.total_seconds()\n",
    "    actual_train_targets.append(seconds)\n",
    "inputs_array = train_inputs.astype('float64')\n",
    "targets_array = np.array(actual_train_targets)\n",
    "inputs = torch.Tensor(inputs_array)\n",
    "targets = torch.Tensor(targets_array)\n"
   ]
  },
  {
   "cell_type": "code",
   "execution_count": 3,
   "id": "a2c8ad8f",
   "metadata": {},
   "outputs": [],
   "source": [
    "dataset = TensorDataset(inputs, targets)"
   ]
  },
  {
   "cell_type": "code",
   "execution_count": 4,
   "id": "7fd075e7",
   "metadata": {},
   "outputs": [],
   "source": [
    "val_percent = 0.2\n",
    "num_rows = len(dfInput.index)\n",
    "val_size = int(num_rows * val_percent)\n",
    "train_size = num_rows - val_size\n",
    "train_ds, val_ds = random_split(dataset, [train_size, val_size])"
   ]
  },
  {
   "cell_type": "code",
   "execution_count": 5,
   "id": "aceb6d3d",
   "metadata": {},
   "outputs": [],
   "source": [
    "batch_size = 9\n",
    "train_loader = DataLoader(train_ds, batch_size, shuffle = True, num_workers = 0)\n",
    "val_loader = DataLoader(val_ds, batch_size, num_workers = 0)"
   ]
  },
  {
   "cell_type": "code",
   "execution_count": 6,
   "id": "a6eba708",
   "metadata": {},
   "outputs": [],
   "source": [
    "input_size = len(inputs[0])\n",
    "output_size = 1"
   ]
  },
  {
   "cell_type": "code",
   "execution_count": 7,
   "id": "138a4343",
   "metadata": {},
   "outputs": [],
   "source": [
    "class LinearRegressionModel(nn.Module):\n",
    "    def __init__(self):\n",
    "        super().__init__()\n",
    "        self.linear = nn.Linear(input_size, output_size)               \n",
    "        \n",
    "    def forward(self, xb):\n",
    "        out = self.linear(xb)                        \n",
    "        return out\n",
    "    \n",
    "    def training_step(self, batch):\n",
    "        inputs, targets = batch \n",
    "        # Generate predictions\n",
    "        out = self(inputs)          \n",
    "        # Calcuate loss\n",
    "        loss = F.l1_loss(input = out, target = targets, size_average = None, reduce = None, reduction = 'mean')  \n",
    "        return loss\n",
    "    \n",
    "    def validation_step(self, batch):\n",
    "        inputs, targets = batch\n",
    "        # Generate predictions\n",
    "        out = self(inputs)\n",
    "        # Calculate loss\n",
    "        loss = F.l1_loss(input = out, target = targets, size_average = None, reduce = None, reduction = 'mean')    \n",
    "        return {'val_loss': loss.detach()}\n",
    "        \n",
    "    def validation_epoch_end(self, outputs):\n",
    "        batch_losses = [x['val_loss'] for x in outputs]\n",
    "        epoch_loss = torch.stack(batch_losses).mean()   # Combine losses\n",
    "        return {'val_loss': epoch_loss.item()}\n",
    "    \n",
    "    def epoch_end(self, epoch, result, num_epochs):\n",
    "        # Print result every 20th epoch\n",
    "        if (epoch+1) % 20 == 0 or epoch == num_epochs-1:\n",
    "            print(\"Epoch [{}], val_loss: {:.4f}\".format(epoch+1, result['val_loss']))"
   ]
  },
  {
   "cell_type": "code",
   "execution_count": 8,
   "id": "29ed2968",
   "metadata": {},
   "outputs": [],
   "source": [
    "model = LinearRegressionModel()"
   ]
  },
  {
   "cell_type": "code",
   "execution_count": 9,
   "id": "06d58047",
   "metadata": {},
   "outputs": [
    {
     "data": {
      "text/plain": [
       "[Parameter containing:\n",
       " tensor([[-0.1612,  0.0147,  0.0496, -0.3042, -0.2038,  0.1831,  0.0260, -0.0177,\n",
       "          -0.0280]], requires_grad=True),\n",
       " Parameter containing:\n",
       " tensor([-0.2517], requires_grad=True)]"
      ]
     },
     "execution_count": 9,
     "metadata": {},
     "output_type": "execute_result"
    }
   ],
   "source": [
    "list(model.parameters())"
   ]
  },
  {
   "cell_type": "code",
   "execution_count": 10,
   "id": "13936908",
   "metadata": {},
   "outputs": [],
   "source": [
    "def evaluate(model, val_loader):\n",
    "    outputs = [model.validation_step(batch) for batch in val_loader]\n",
    "    return model.validation_epoch_end(outputs)\n",
    "\n",
    "def fit(epochs, lr, model, train_loader, val_loader, opt_func = torch.optim.SGD):\n",
    "    history = []\n",
    "    optimizer = opt_func(model.parameters(), lr)\n",
    "    for epoch in range(epochs):\n",
    "        # Training Phase \n",
    "        for batch in train_loader:\n",
    "            loss = model.training_step(batch)\n",
    "            loss.backward()\n",
    "            optimizer.step()\n",
    "            optimizer.zero_grad()\n",
    "        # Validation phase\n",
    "        result = evaluate(model, val_loader)\n",
    "        model.epoch_end(epoch, result, epochs)\n",
    "        history.append(result)\n",
    "    return history"
   ]
  },
  {
   "cell_type": "code",
   "execution_count": 11,
   "id": "6e44dbc9",
   "metadata": {},
   "outputs": [
    {
     "name": "stdout",
     "output_type": "stream",
     "text": [
      "{'val_loss': 308.9500427246094}\n"
     ]
    },
    {
     "name": "stderr",
     "output_type": "stream",
     "text": [
      "<ipython-input-7-7c5cb21f20d8>:23: UserWarning: Using a target size (torch.Size([9])) that is different to the input size (torch.Size([9, 1])). This will likely lead to incorrect results due to broadcasting. Please ensure they have the same size.\n",
      "  loss = F.l1_loss(input = out, target = targets, size_average = None, reduce = None, reduction = 'mean')\n",
      "<ipython-input-7-7c5cb21f20d8>:23: UserWarning: Using a target size (torch.Size([3])) that is different to the input size (torch.Size([3, 1])). This will likely lead to incorrect results due to broadcasting. Please ensure they have the same size.\n",
      "  loss = F.l1_loss(input = out, target = targets, size_average = None, reduce = None, reduction = 'mean')\n"
     ]
    }
   ],
   "source": [
    "result = evaluate(model, val_loader)\n",
    "print(result)"
   ]
  },
  {
   "cell_type": "code",
   "execution_count": 12,
   "id": "c63f721f",
   "metadata": {},
   "outputs": [
    {
     "name": "stderr",
     "output_type": "stream",
     "text": [
      "<ipython-input-7-7c5cb21f20d8>:15: UserWarning: Using a target size (torch.Size([9])) that is different to the input size (torch.Size([9, 1])). This will likely lead to incorrect results due to broadcasting. Please ensure they have the same size.\n",
      "  loss = F.l1_loss(input = out, target = targets, size_average = None, reduce = None, reduction = 'mean')\n",
      "<ipython-input-7-7c5cb21f20d8>:15: UserWarning: Using a target size (torch.Size([4])) that is different to the input size (torch.Size([4, 1])). This will likely lead to incorrect results due to broadcasting. Please ensure they have the same size.\n",
      "  loss = F.l1_loss(input = out, target = targets, size_average = None, reduce = None, reduction = 'mean')\n",
      "<ipython-input-7-7c5cb21f20d8>:23: UserWarning: Using a target size (torch.Size([9])) that is different to the input size (torch.Size([9, 1])). This will likely lead to incorrect results due to broadcasting. Please ensure they have the same size.\n",
      "  loss = F.l1_loss(input = out, target = targets, size_average = None, reduce = None, reduction = 'mean')\n",
      "<ipython-input-7-7c5cb21f20d8>:23: UserWarning: Using a target size (torch.Size([3])) that is different to the input size (torch.Size([3, 1])). This will likely lead to incorrect results due to broadcasting. Please ensure they have the same size.\n",
      "  loss = F.l1_loss(input = out, target = targets, size_average = None, reduce = None, reduction = 'mean')\n"
     ]
    },
    {
     "name": "stdout",
     "output_type": "stream",
     "text": [
      "Epoch [20], val_loss: 131.2923\n",
      "Epoch [40], val_loss: 5.8868\n",
      "Epoch [60], val_loss: 5.8663\n",
      "Epoch [80], val_loss: 5.8416\n",
      "Epoch [100], val_loss: 5.8245\n",
      "Epoch [120], val_loss: 5.7984\n",
      "Epoch [140], val_loss: 5.7748\n",
      "Epoch [160], val_loss: 5.7524\n",
      "Epoch [180], val_loss: 5.7271\n",
      "Epoch [200], val_loss: 5.7091\n",
      "Epoch [220], val_loss: 5.6860\n",
      "Epoch [240], val_loss: 5.6669\n",
      "Epoch [260], val_loss: 5.6529\n",
      "Epoch [280], val_loss: 5.6361\n",
      "Epoch [300], val_loss: 5.6097\n",
      "Epoch [320], val_loss: 5.5919\n",
      "Epoch [340], val_loss: 5.5751\n",
      "Epoch [360], val_loss: 5.5533\n",
      "Epoch [380], val_loss: 5.5421\n",
      "Epoch [400], val_loss: 5.5195\n",
      "Epoch [420], val_loss: 5.5089\n",
      "Epoch [440], val_loss: 5.4893\n",
      "Epoch [460], val_loss: 5.4785\n",
      "Epoch [480], val_loss: 5.4702\n",
      "Epoch [500], val_loss: 5.4444\n",
      "Epoch [520], val_loss: 5.4321\n",
      "Epoch [540], val_loss: 5.4233\n",
      "Epoch [560], val_loss: 5.4074\n",
      "Epoch [580], val_loss: 5.3944\n",
      "Epoch [600], val_loss: 5.3830\n",
      "Epoch [620], val_loss: 5.3714\n",
      "Epoch [640], val_loss: 5.3655\n",
      "Epoch [660], val_loss: 5.3593\n",
      "Epoch [680], val_loss: 5.3417\n",
      "Epoch [700], val_loss: 5.3332\n",
      "Epoch [720], val_loss: 5.3239\n",
      "Epoch [740], val_loss: 5.3193\n",
      "Epoch [760], val_loss: 5.3015\n",
      "Epoch [780], val_loss: 5.3094\n",
      "Epoch [800], val_loss: 5.2853\n",
      "Epoch [820], val_loss: 5.2780\n",
      "Epoch [840], val_loss: 5.2721\n",
      "Epoch [860], val_loss: 5.2655\n",
      "Epoch [880], val_loss: 5.2764\n",
      "Epoch [900], val_loss: 5.2565\n",
      "Epoch [920], val_loss: 5.2677\n",
      "Epoch [940], val_loss: 5.2461\n",
      "Epoch [960], val_loss: 5.2418\n",
      "Epoch [980], val_loss: 5.2415\n",
      "Epoch [1000], val_loss: 5.2361\n"
     ]
    }
   ],
   "source": [
    "epochs = 1000\n",
    "lr = 1e-7\n",
    "history1 = fit(epochs, lr, model, train_loader, val_loader)"
   ]
  },
  {
   "cell_type": "code",
   "execution_count": 13,
   "id": "e0d43044",
   "metadata": {},
   "outputs": [],
   "source": [
    "def predict_single(input, target, model):\n",
    "    inputs = input.unsqueeze(0)\n",
    "    predictions = model(inputs)                \n",
    "    prediction = predictions[0].detach()\n",
    "    return target, prediction"
   ]
  },
  {
   "cell_type": "code",
   "execution_count": 14,
   "id": "1cf8ea4c",
   "metadata": {},
   "outputs": [
    {
     "data": {
      "text/plain": [
       "(tensor(87.5540), tensor([90.1542]))"
      ]
     },
     "execution_count": 14,
     "metadata": {},
     "output_type": "execute_result"
    }
   ],
   "source": [
    "input, target = val_ds[11]\n",
    "predict_single(input, target, model)"
   ]
  },
  {
   "cell_type": "code",
   "execution_count": 15,
   "id": "49e61014",
   "metadata": {},
   "outputs": [
    {
     "data": {
      "text/plain": [
       "(tensor(87.9070), tensor([90.6174]))"
      ]
     },
     "execution_count": 15,
     "metadata": {},
     "output_type": "execute_result"
    }
   ],
   "source": [
    "input, target = val_ds[50]\n",
    "predict_single(input, target, model)"
   ]
  },
  {
   "cell_type": "code",
   "execution_count": 16,
   "id": "31f9d69c",
   "metadata": {},
   "outputs": [],
   "source": [
    "targets = []\n",
    "predictions = []\n",
    "for i in range(len(val_ds)):\n",
    "    input, target = val_ds[i]\n",
    "    target, prediction = predict_single(input, target, model)\n",
    "    targets.append(target)\n",
    "    predictions.append(prediction)\n"
   ]
  },
  {
   "cell_type": "code",
   "execution_count": 17,
   "id": "7ff55c4d",
   "metadata": {
    "scrolled": true
   },
   "outputs": [
    {
     "data": {
      "text/plain": [
       "<matplotlib.collections.PathCollection at 0x1fa13029fd0>"
      ]
     },
     "execution_count": 17,
     "metadata": {},
     "output_type": "execute_result"
    },
    {
     "data": {
      "image/png": "[encoded data removed]",
      "text/plain": [
       "<Figure size 1440x720 with 1 Axes>"
      ]
     },
     "metadata": {
      "needs_background": "light"
     },
     "output_type": "display_data"
    }
   ],
   "source": [
    "fig, ax = plt.subplots(figsize=(20, 10))\n",
    "\n",
    "ax.scatter(range(len(predictions)),targets)\n",
    "ax.scatter(range(len(predictions)), predictions)\n"
   ]
  },
  {
   "cell_type": "code",
   "execution_count": null,
   "id": "98d96150",
   "metadata": {},
   "outputs": [],
   "source": []
  },
  {
   "cell_type": "code",
   "execution_count": null,
   "id": "0b0a98d1",
   "metadata": {},
   "outputs": [],
   "source": []
  }
 ],
 "metadata": {
  "kernelspec": {
   "display_name": "Python 3",
   "language": "python",
   "name": "python3"
  },
  "language_info": {
   "codemirror_mode": {
    "name": "ipython",
    "version": 3
   },
   "file_extension": ".py",
   "mimetype": "text/x-python",
   "name": "python",
   "nbconvert_exporter": "python",
   "pygments_lexer": "ipython3",
   "version": "3.8.8"
  }
 },
 "nbformat": 4,
 "nbformat_minor": 5
}
