{
 "cells": [
  {
   "cell_type": "code",
   "execution_count": 1,
   "id": "e2a19097",
   "metadata": {},
   "outputs": [],
   "source": [
    "import torch\n",
    "import torch.nn as nn\n",
    "import pandas as pd\n",
    "import numpy as np\n",
    "from dateutil.parser import parse\n",
    "import torch.nn.functional as F\n",
    "from torch.utils.data import DataLoader, random_split, TensorDataset\n",
    "import matplotlib.pyplot as plt"
   ]
  },
  {
   "cell_type": "code",
   "execution_count": 2,
   "id": "6a806793",
   "metadata": {},
   "outputs": [],
   "source": [
    "###TODO: remove outliers, expand to full data, fix the size error idk why thats happening"
   ]
  },
  {
   "cell_type": "code",
   "execution_count": 3,
   "id": "6d63abe8",
   "metadata": {},
   "outputs": [],
   "source": [
    "\n",
    "\n",
    "df = pd.read_csv('F1_4502\\LapAndWeather\\LapWeather_Australian Grand Prix')\n",
    "df = df.drop(['Time','DriverNumber', 'Unnamed: 0', 'LapNumber', 'PitOutTime', 'PitInTime', 'Sector1Time','Sector2Time','Sector3Time','Sector1SessionTime','Sector2SessionTime','Sector3SessionTime','SpeedI1','SpeedI2','SpeedST','IsPersonalBest','FreshTyre','Stint','SpeedFL','LapStartTime','Team','Driver','TrackStatus','IsAccurate'], axis=1)\n",
    "df = df.dropna()\n",
    "\n",
    "dfOutput = df['LapTime']\n",
    "dfInput = df.drop(['LapTime'], axis=1)\n",
    "dfInput = dfInput.replace({'ULTRASOFT': 0, 'SUPERSOFT': 1, 'SOFT': 2,})\n",
    "train_inputs = dfInput.to_numpy()\n",
    "train_targets = dfOutput.to_numpy()\n",
    "for i in range(len(train_targets)):\n",
    "    train_targets[i] = train_targets[i].replace('0 days ', '')\n",
    "actual_train_targets = []\n",
    "for time in train_targets:\n",
    "    td = parse(time) - parse('00:00:00')\n",
    "    seconds = td.total_seconds()\n",
    "    actual_train_targets.append(seconds)\n",
    "inputs_array = train_inputs.astype('float64')\n",
    "targets_array = np.array(actual_train_targets)\n",
    "inputs = torch.Tensor(inputs_array)\n",
    "targets = torch.Tensor(targets_array)\n"
   ]
  },
  {
   "cell_type": "code",
   "execution_count": null,
   "id": "5509c3d6",
   "metadata": {},
   "outputs": [],
   "source": []
  },
  {
   "cell_type": "code",
   "execution_count": 4,
   "id": "03e8c443",
   "metadata": {},
   "outputs": [],
   "source": [
    "dataset = TensorDataset(inputs, targets)\n"
   ]
  },
  {
   "cell_type": "code",
   "execution_count": 5,
   "id": "4f1a0694",
   "metadata": {},
   "outputs": [],
   "source": [
    "val_percent = 0.2\n",
    "num_rows = len(dfInput.index)\n",
    "val_size = int(num_rows * val_percent)\n",
    "train_size = num_rows - val_size\n",
    "train_ds, val_ds = random_split(dataset, [train_size, val_size])"
   ]
  },
  {
   "cell_type": "code",
   "execution_count": 6,
   "id": "da61690d",
   "metadata": {},
   "outputs": [],
   "source": [
    "batch_size = 9\n",
    "train_loader = DataLoader(train_ds, batch_size, shuffle = True, num_workers = 0)\n",
    "val_loader = DataLoader(val_ds, batch_size, num_workers = 0)"
   ]
  },
  {
   "cell_type": "code",
   "execution_count": 7,
   "id": "fccaa518",
   "metadata": {},
   "outputs": [],
   "source": [
    "input_size = len(inputs[0])\n",
    "output_size = 1"
   ]
  },
  {
   "cell_type": "code",
   "execution_count": 8,
   "id": "a60896f0",
   "metadata": {},
   "outputs": [],
   "source": [
    "class LinearRegressionModel(nn.Module):\n",
    "    def __init__(self):\n",
    "        super().__init__()\n",
    "        self.layers = nn.Sequential(\n",
    "            nn.Linear(9, 36),\n",
    "            nn.ReLU(),\n",
    "            nn.Linear(36,18),\n",
    "            nn.ReLU(),\n",
    "            nn.Linear(18,1)\n",
    "        )\n",
    "        \n",
    "    def forward(self, xb):\n",
    "        out = self.layers(xb)                       \n",
    "        return out\n",
    "    \n",
    "    def training_step(self, batch):\n",
    "        inputs, targets = batch \n",
    "        # Generate predictions\n",
    "        out = self(inputs)          \n",
    "        # Calcuate loss\n",
    "        loss = F.l1_loss(input = out, target = targets, size_average = None, reduce = None, reduction = 'mean')  \n",
    "        return loss\n",
    "    \n",
    "    def validation_step(self, batch):\n",
    "        inputs, targets = batch\n",
    "        # Generate predictions\n",
    "        out = self(inputs)\n",
    "        # Calculate loss\n",
    "        loss = F.l1_loss(input = out, target = targets, size_average = None, reduce = None, reduction = 'mean')    \n",
    "        return {'val_loss': loss.detach()}\n",
    "        \n",
    "    def validation_epoch_end(self, outputs):\n",
    "        batch_losses = [x['val_loss'] for x in outputs]\n",
    "        epoch_loss = torch.stack(batch_losses).mean()   # Combine losses\n",
    "        return {'val_loss': epoch_loss.item()}\n",
    "    \n",
    "    def epoch_end(self, epoch, result, num_epochs):\n",
    "        # Print result every 20th epoch\n",
    "        if (epoch+1) % 20 == 0 or epoch == num_epochs-1:\n",
    "            print(\"Epoch [{}], val_loss: {:.4f}\".format(epoch+1, result['val_loss']))"
   ]
  },
  {
   "cell_type": "code",
   "execution_count": 9,
   "id": "c67ce36a",
   "metadata": {},
   "outputs": [],
   "source": [
    "model = LinearRegressionModel()\n"
   ]
  },
  {
   "cell_type": "code",
   "execution_count": 10,
   "id": "cc374939",
   "metadata": {},
   "outputs": [
    {
     "data": {
      "text/plain": [
       "[Parameter containing:\n",
       " tensor([[ 2.6978e-01,  1.4664e-01, -9.8114e-02, -2.3224e-01,  9.9271e-02,\n",
       "          -1.8257e-02, -1.9397e-01, -2.4023e-01, -2.0853e-02],\n",
       "         [ 2.0967e-02,  2.5637e-01,  1.1477e-01,  1.3259e-01, -4.9295e-02,\n",
       "          -1.7751e-01,  1.3954e-01,  8.1807e-02, -1.6559e-01],\n",
       "         [-2.7741e-01, -4.2840e-02,  7.6567e-03,  1.0796e-01, -2.9731e-01,\n",
       "           2.0416e-01,  2.2638e-01, -1.2775e-01,  1.7533e-01],\n",
       "         [ 6.2311e-02, -3.9637e-02, -1.3734e-01,  1.8972e-01, -3.7335e-02,\n",
       "           1.3090e-01,  1.5170e-01,  7.9975e-02,  3.0079e-01],\n",
       "         [-1.4685e-01, -1.0247e-01,  3.2255e-02,  2.4268e-01,  1.5908e-01,\n",
       "          -2.3604e-01, -2.4843e-01,  1.5151e-01, -2.8983e-01],\n",
       "         [-1.1720e-02, -3.1662e-02,  3.9582e-02, -2.9857e-01, -2.4464e-01,\n",
       "           2.6485e-01, -1.5327e-01, -2.3753e-01, -1.8167e-01],\n",
       "         [ 1.7362e-01,  1.5587e-01,  3.1350e-01, -8.3449e-02,  2.8579e-02,\n",
       "           2.4136e-01, -3.5320e-02,  1.4266e-01, -2.7062e-01],\n",
       "         [ 2.5224e-01, -2.7345e-02,  8.9187e-02,  2.0343e-02, -5.0789e-03,\n",
       "           6.3389e-02, -1.2412e-01,  1.2505e-01,  1.7183e-01],\n",
       "         [-3.1042e-01, -1.0269e-02, -3.8818e-02,  3.0376e-01,  1.8669e-01,\n",
       "          -2.8144e-01, -1.7634e-01, -4.0961e-02,  1.8396e-01],\n",
       "         [ 1.2468e-01, -1.5964e-01, -1.3482e-01,  4.7838e-02, -1.7014e-01,\n",
       "           4.1590e-02, -1.9034e-01, -3.0693e-01,  1.4919e-01],\n",
       "         [-2.0059e-01, -1.5716e-01, -1.3215e-01,  1.7221e-01, -8.5739e-02,\n",
       "          -2.0321e-01, -8.7149e-02, -1.3326e-02, -2.5254e-01],\n",
       "         [ 9.5663e-02,  2.4392e-01, -2.1237e-01, -1.5799e-01,  1.7204e-01,\n",
       "           2.3576e-01, -2.4410e-01,  1.2857e-01,  1.5058e-01],\n",
       "         [-3.1977e-01, -1.7832e-01,  2.6350e-01, -1.0851e-01,  1.8687e-01,\n",
       "           1.8754e-01,  1.7811e-01, -8.7573e-02, -9.7997e-02],\n",
       "         [-7.1455e-02,  8.9259e-02,  9.7453e-02, -2.9151e-02,  2.9793e-02,\n",
       "           2.4707e-02,  2.1271e-01, -1.7166e-01,  1.2084e-01],\n",
       "         [ 3.4598e-02,  8.0488e-02,  2.2731e-01, -2.4909e-01, -1.0503e-01,\n",
       "           2.3220e-03, -4.0878e-02, -1.5042e-01,  2.0272e-01],\n",
       "         [-9.2025e-02,  9.7821e-02,  2.0786e-01, -2.5276e-01,  9.5141e-02,\n",
       "          -2.4698e-01, -9.7929e-02, -2.1925e-01, -2.7741e-01],\n",
       "         [-4.8968e-03, -3.2802e-01,  2.0865e-01, -2.0234e-01,  3.0896e-01,\n",
       "          -1.5778e-01, -1.1141e-01,  7.2889e-02,  4.7519e-02],\n",
       "         [-6.4170e-02,  3.2971e-01,  1.2295e-01,  2.5416e-01,  2.6385e-01,\n",
       "           5.3014e-02, -2.5140e-01, -2.9986e-02,  1.3426e-02],\n",
       "         [ 2.9850e-01,  3.3705e-02, -4.2292e-02,  1.8762e-01,  3.1726e-01,\n",
       "          -8.5087e-02, -3.0799e-01, -2.1247e-01, -2.3201e-01],\n",
       "         [ 1.6751e-02, -2.8552e-01,  1.3411e-01,  1.5173e-01, -1.7844e-01,\n",
       "          -2.7095e-01, -1.2299e-01,  2.6275e-01,  1.2644e-01],\n",
       "         [ 1.0598e-01, -3.2313e-02, -7.4368e-02, -1.7280e-01,  6.6670e-02,\n",
       "          -5.3864e-02, -2.0232e-01,  1.6195e-01,  3.4682e-02],\n",
       "         [-2.1308e-01,  3.0580e-02, -1.7300e-01,  1.6494e-01,  3.2885e-01,\n",
       "           6.9827e-02,  4.1133e-02,  1.0761e-01,  2.8237e-01],\n",
       "         [-2.7109e-01, -2.4850e-01, -2.3024e-01,  3.0204e-01,  2.4263e-01,\n",
       "           2.8716e-01,  9.9808e-02,  1.5238e-01,  2.9887e-01],\n",
       "         [-2.8127e-01,  2.0291e-01,  5.0965e-02,  3.6992e-02,  1.3852e-04,\n",
       "          -2.6250e-01, -9.2031e-02,  5.2172e-02,  2.4708e-01],\n",
       "         [ 1.2986e-01, -1.5552e-01,  9.7711e-02, -6.9965e-02, -2.0650e-01,\n",
       "           2.5005e-02, -1.1026e-01,  1.6164e-01, -1.9616e-01],\n",
       "         [-2.6316e-02, -7.7379e-02, -1.7895e-01,  2.6104e-01,  1.3779e-01,\n",
       "           4.9140e-02,  2.6682e-01, -3.3123e-01, -1.8197e-01],\n",
       "         [ 1.2843e-01,  2.4963e-01,  1.5394e-01,  9.0672e-02,  2.4568e-01,\n",
       "          -9.2675e-02,  7.1426e-02,  2.3580e-01,  1.5395e-01],\n",
       "         [-7.7698e-02, -2.3072e-01,  2.0990e-01, -1.2366e-01,  3.2874e-01,\n",
       "           2.6585e-01,  2.9720e-01, -1.5515e-01,  1.8452e-01],\n",
       "         [ 1.9394e-01,  3.0217e-01, -2.2415e-01, -2.9886e-01, -1.7322e-01,\n",
       "          -2.6657e-01,  2.7524e-01, -3.3882e-03, -4.1540e-02],\n",
       "         [ 8.8605e-04,  2.9032e-01, -5.0705e-03,  1.7378e-01, -1.6222e-02,\n",
       "          -1.2805e-01,  1.2702e-01,  1.4419e-01,  2.3523e-01],\n",
       "         [ 2.0816e-01,  1.5057e-01,  4.6356e-02, -2.6812e-01, -2.2479e-01,\n",
       "          -2.3291e-01, -2.5823e-01, -1.5671e-01,  3.1345e-01],\n",
       "         [-3.2681e-02, -1.2464e-03, -4.2245e-02, -2.1168e-01, -1.5575e-01,\n",
       "           1.8582e-01, -8.4823e-03, -2.6220e-01, -1.6060e-01],\n",
       "         [-1.9774e-01,  4.8765e-02,  1.7858e-01,  3.1571e-01,  1.1367e-01,\n",
       "          -2.4405e-01, -6.3034e-02,  1.0424e-01, -9.6224e-03],\n",
       "         [ 2.7753e-01,  3.1692e-01,  1.5666e-01, -1.8260e-01, -2.0311e-01,\n",
       "          -5.7346e-02, -1.9777e-01,  3.2801e-01, -2.5700e-01],\n",
       "         [ 2.9563e-02,  3.9889e-02,  2.1334e-01, -1.7318e-01, -1.6253e-01,\n",
       "           2.1047e-01, -7.9881e-02, -1.9773e-01,  2.4207e-01],\n",
       "         [ 1.4287e-01, -2.3220e-01, -1.3077e-01, -5.0210e-02,  2.3657e-01,\n",
       "          -1.0628e-01,  3.0372e-01, -1.5365e-01,  1.1647e-01]],\n",
       "        requires_grad=True),\n",
       " Parameter containing:\n",
       " tensor([-0.0279, -0.0283, -0.0506, -0.1169, -0.0198,  0.0521, -0.0852, -0.1239,\n",
       "         -0.3112, -0.2125, -0.2533,  0.1281,  0.1385,  0.2417, -0.2877,  0.1256,\n",
       "          0.2796, -0.1673, -0.1096,  0.1051, -0.1243,  0.1839,  0.1398, -0.0886,\n",
       "          0.0453, -0.1789, -0.2921,  0.0286,  0.2429,  0.1300,  0.0500,  0.0279,\n",
       "          0.0427,  0.0760, -0.2420,  0.0312], requires_grad=True),\n",
       " Parameter containing:\n",
       " tensor([[ 9.1209e-02, -3.0782e-02, -1.1841e-01,  1.3375e-01, -5.1531e-02,\n",
       "          -8.0153e-05, -5.4998e-02,  3.3218e-02,  1.0069e-01,  8.9667e-02,\n",
       "          -2.2335e-02, -1.0904e-01,  1.0893e-01, -8.2943e-02, -7.6128e-02,\n",
       "           1.0574e-01, -7.8109e-02, -1.1589e-01,  1.6129e-01,  6.5745e-02,\n",
       "          -2.8732e-02,  5.6950e-02,  9.8858e-03,  5.9385e-02, -1.4920e-02,\n",
       "          -7.5285e-02,  1.4675e-01,  3.2700e-03,  8.5259e-02, -2.7983e-02,\n",
       "           9.4005e-02, -1.0142e-01, -1.5182e-01, -1.2577e-01,  9.3782e-02,\n",
       "           1.0839e-01],\n",
       "         [ 9.8595e-02, -2.6631e-02,  1.4741e-01,  1.4355e-01, -7.0731e-04,\n",
       "          -8.2358e-02,  5.2728e-02,  5.4961e-02, -6.9326e-02,  7.3325e-02,\n",
       "           3.6818e-02, -1.1314e-01,  3.1965e-02, -7.1936e-02,  4.3644e-02,\n",
       "           2.8752e-02, -7.7632e-02, -1.2670e-01,  1.3002e-01, -1.2121e-01,\n",
       "           1.2008e-03, -1.5469e-01,  5.2105e-02,  1.7944e-03, -1.3503e-01,\n",
       "           7.9513e-02,  7.3199e-02,  8.6920e-02,  1.2240e-01,  1.4784e-01,\n",
       "          -1.4616e-01,  4.5605e-02, -1.2576e-01,  1.1227e-01,  7.9811e-05,\n",
       "           6.0003e-02],\n",
       "         [-3.5394e-02,  3.9376e-02, -9.5689e-02,  3.9788e-02, -4.3178e-02,\n",
       "          -1.5139e-01,  5.1033e-02,  1.0140e-02,  9.5626e-02, -2.8257e-02,\n",
       "           1.3554e-02, -1.5018e-01,  1.1013e-01,  1.6469e-01, -9.1143e-02,\n",
       "           1.1810e-01,  1.5989e-01,  3.5955e-03, -3.8012e-02,  1.1284e-01,\n",
       "           1.3192e-01, -3.3243e-02, -8.8147e-02,  5.5916e-02,  2.8665e-02,\n",
       "          -9.3957e-02, -2.7804e-02, -3.2728e-02,  8.8359e-02, -2.2996e-02,\n",
       "           1.4521e-01, -4.6874e-02,  1.8260e-02, -2.3743e-02,  1.3508e-01,\n",
       "          -1.5502e-01],\n",
       "         [-3.4011e-02, -1.2297e-01, -9.2776e-02, -1.0404e-01, -6.8658e-02,\n",
       "           1.5122e-01,  1.2964e-01,  2.0004e-02, -1.1345e-01,  1.0761e-01,\n",
       "          -4.2276e-02,  8.6184e-02,  7.0691e-02,  1.7087e-02, -7.5242e-02,\n",
       "          -1.1809e-01,  6.0507e-02,  1.6328e-01, -1.2218e-01,  1.6206e-02,\n",
       "          -9.2738e-03, -3.3853e-02, -1.1070e-01, -3.0332e-02,  6.4286e-02,\n",
       "           4.6645e-03, -4.9684e-02,  2.7697e-02, -4.0221e-02,  1.8128e-02,\n",
       "           1.2717e-01,  1.6519e-02, -1.2674e-01,  1.3791e-01, -1.1292e-01,\n",
       "          -1.3619e-01],\n",
       "         [-3.2424e-02,  1.5956e-01, -6.7172e-02, -1.5459e-01,  1.2279e-01,\n",
       "           9.6756e-03,  1.2468e-02, -3.7349e-02,  8.3436e-02, -9.2882e-02,\n",
       "           1.1070e-01,  9.7403e-02, -3.3028e-02,  1.6098e-01,  5.4614e-03,\n",
       "          -1.6101e-01,  6.6005e-02,  1.1289e-01,  7.7781e-02, -1.4574e-01,\n",
       "          -1.6962e-02,  1.5901e-01, -1.5595e-01, -8.6412e-03, -9.1934e-02,\n",
       "          -9.6530e-02,  1.2963e-01,  1.2746e-02,  5.6181e-02,  1.3383e-01,\n",
       "          -2.4893e-02,  3.5480e-02, -1.2907e-01,  1.3483e-01, -4.9074e-02,\n",
       "           1.6453e-01],\n",
       "         [-5.1017e-02, -8.3797e-02,  2.4486e-02, -6.1583e-02, -1.5413e-01,\n",
       "           3.9369e-02,  2.4752e-02,  9.4523e-02, -5.8779e-02, -7.6182e-02,\n",
       "          -2.3043e-02,  2.3870e-02,  1.5626e-01, -4.2807e-02,  4.5915e-02,\n",
       "          -7.8073e-02,  1.5172e-01,  1.4948e-01,  1.6076e-01,  1.5740e-01,\n",
       "           1.3329e-02, -1.0022e-01, -5.2782e-03,  1.5277e-01, -2.9098e-02,\n",
       "          -1.4085e-02, -6.6973e-02,  5.5729e-02,  8.3384e-02,  3.2087e-02,\n",
       "          -6.2690e-02, -6.1462e-02, -9.8237e-02, -1.3066e-01,  1.2282e-01,\n",
       "          -1.6090e-01],\n",
       "         [ 9.3353e-02, -2.3984e-02,  5.0592e-04,  1.5598e-01, -1.0318e-01,\n",
       "           9.2556e-02, -4.7057e-02,  8.1973e-02, -1.2525e-01, -4.8546e-02,\n",
       "          -1.0308e-01,  2.1340e-02,  1.3908e-01,  5.1925e-02,  8.5517e-02,\n",
       "          -1.6434e-01, -1.1222e-01,  2.5893e-02,  4.5041e-02,  2.8505e-02,\n",
       "           1.5891e-01,  4.8037e-02,  1.6024e-01, -8.9897e-02,  1.2540e-01,\n",
       "          -8.9200e-02,  1.7611e-02, -6.1429e-02,  4.2231e-02, -9.8661e-02,\n",
       "          -1.2066e-02, -6.5039e-02, -1.6003e-01, -3.2083e-02, -1.5164e-01,\n",
       "           1.0569e-01],\n",
       "         [-1.6034e-01, -8.4892e-02, -1.2611e-01,  1.5803e-02, -1.6591e-01,\n",
       "          -4.3081e-02,  6.9225e-03,  1.4917e-01, -8.0868e-02, -4.4272e-02,\n",
       "          -3.2679e-02, -1.2906e-01,  1.4104e-01,  1.3235e-02, -3.0785e-03,\n",
       "           8.0360e-02, -3.6236e-02,  1.2166e-01, -1.4505e-01, -9.4110e-02,\n",
       "          -1.0682e-02,  1.1955e-02, -8.4321e-02,  1.3677e-01, -1.4576e-01,\n",
       "           1.0807e-02, -9.3957e-02,  1.3175e-02,  1.3469e-01,  6.4017e-02,\n",
       "           8.7965e-02,  7.0768e-03, -1.4417e-01,  1.6650e-01, -1.0279e-01,\n",
       "           1.4025e-01],\n",
       "         [-1.5291e-01, -1.5575e-01, -1.1224e-01,  4.6155e-02, -2.4116e-04,\n",
       "          -1.3459e-01,  1.5705e-01, -1.3118e-01, -8.7676e-02, -2.8017e-02,\n",
       "          -2.9995e-03,  1.1023e-01, -1.3929e-01, -1.1378e-01, -1.1993e-01,\n",
       "          -1.3785e-01,  1.1658e-01, -1.1938e-01,  1.6613e-01,  5.0629e-02,\n",
       "          -1.1768e-01,  1.2711e-01,  3.9848e-02, -9.8483e-02,  7.8392e-02,\n",
       "           3.9123e-02, -8.4149e-02, -1.1120e-01, -1.5705e-01,  9.6202e-02,\n",
       "          -1.0960e-01,  7.6950e-03,  1.1427e-01,  1.7473e-02,  1.2072e-01,\n",
       "           6.6228e-02],\n",
       "         [ 6.5543e-03,  4.2024e-02, -2.2830e-02,  8.9617e-02,  4.6486e-02,\n",
       "           1.1606e-01, -1.3230e-01,  2.3062e-02,  4.3708e-02,  1.1300e-01,\n",
       "          -7.7984e-02,  1.2853e-01, -4.3056e-03, -6.5014e-02, -6.1769e-02,\n",
       "           1.1679e-01, -1.5338e-01, -8.7901e-02,  3.8926e-02, -1.3688e-01,\n",
       "           1.2749e-01, -1.8691e-02,  2.9346e-02,  5.9596e-02,  1.4225e-01,\n",
       "           3.8677e-04, -9.8988e-02,  1.5614e-01,  5.7281e-02, -1.5176e-01,\n",
       "          -8.9257e-02,  8.8961e-02, -5.9812e-02,  9.2704e-02, -1.0789e-01,\n",
       "           2.1304e-02],\n",
       "         [-3.4043e-02, -2.6315e-02,  1.1953e-01, -1.9100e-02,  1.3870e-01,\n",
       "           1.3606e-01,  2.8688e-02,  1.4418e-01,  1.3301e-01,  1.3056e-02,\n",
       "          -2.8250e-02, -1.4225e-01, -5.7235e-02,  1.6410e-01,  1.0577e-01,\n",
       "           3.2398e-02,  1.5022e-02,  5.3988e-02, -9.1752e-02, -1.9926e-02,\n",
       "          -4.1819e-02,  1.5804e-01, -1.5245e-01, -1.1422e-01, -1.2241e-01,\n",
       "           8.1295e-02,  1.3505e-01, -3.7625e-02, -1.0289e-01,  1.4821e-01,\n",
       "          -1.4796e-01, -1.5505e-02, -2.7826e-02,  1.0882e-01, -1.1458e-01,\n",
       "          -5.4250e-02],\n",
       "         [ 1.6062e-01,  1.1047e-01,  9.6230e-02,  8.2051e-02,  4.3148e-02,\n",
       "           1.3759e-01, -2.9255e-03, -1.2600e-01,  9.5432e-02, -1.1250e-01,\n",
       "          -1.2668e-01,  4.2677e-02,  1.2715e-01,  1.5429e-01,  3.3473e-02,\n",
       "           3.2339e-02, -1.4426e-01, -9.2333e-02,  5.9737e-02, -7.1699e-02,\n",
       "           1.4300e-01, -1.2767e-01, -5.7240e-02, -1.5604e-01, -1.1218e-01,\n",
       "          -5.7402e-02, -3.5240e-02, -8.0011e-02, -1.6316e-03,  7.5885e-02,\n",
       "          -1.3346e-01, -6.8265e-02,  8.2952e-02,  1.2040e-01,  2.9637e-03,\n",
       "           1.5864e-01],\n",
       "         [-6.4070e-02, -1.5966e-01, -1.2993e-02,  1.4166e-01,  4.2959e-02,\n",
       "          -4.9930e-02, -3.8476e-02, -1.1382e-01,  5.8083e-02,  1.3915e-01,\n",
       "           6.6375e-02, -1.2835e-01,  1.2053e-01, -3.5838e-02,  1.5905e-01,\n",
       "          -2.8299e-02,  4.9513e-02,  1.6290e-01,  7.6878e-03, -6.7519e-02,\n",
       "          -4.3112e-02,  5.4347e-02, -1.4148e-01,  1.3016e-01, -1.0772e-01,\n",
       "          -6.2666e-02,  1.5883e-01, -2.1073e-02, -6.9782e-02,  1.4729e-01,\n",
       "          -8.3375e-02,  4.4258e-02, -9.1849e-02,  2.4598e-02, -5.7531e-02,\n",
       "           1.3614e-01],\n",
       "         [ 3.6208e-02,  1.5539e-01, -7.9651e-02, -5.3055e-02, -1.5952e-01,\n",
       "           6.6962e-02,  1.4182e-01, -1.2563e-01,  3.6904e-02, -4.8001e-03,\n",
       "           2.5251e-02, -1.2040e-01,  9.3937e-02,  1.1308e-03,  1.3824e-02,\n",
       "          -1.2621e-01,  8.5060e-02, -5.6765e-02,  1.0968e-01,  4.2327e-02,\n",
       "          -9.7405e-02, -1.9465e-02,  3.5136e-02,  1.2349e-01,  1.6029e-01,\n",
       "           7.9725e-02,  6.3219e-02, -1.4848e-01,  6.3614e-02, -1.3555e-01,\n",
       "          -6.8912e-02, -1.0514e-01,  2.0539e-02, -9.0055e-02,  1.1326e-01,\n",
       "           1.3455e-01],\n",
       "         [ 1.4724e-01, -1.5932e-01,  9.6450e-02,  8.0052e-02, -4.1203e-02,\n",
       "           3.1027e-02,  1.1517e-01, -3.4971e-02, -8.0178e-02, -9.4441e-02,\n",
       "           3.5843e-02, -2.0252e-03,  1.2786e-01,  8.3921e-02,  1.4510e-01,\n",
       "          -4.5446e-02, -9.8460e-02,  1.4611e-01,  1.4648e-01,  6.4919e-02,\n",
       "          -2.0680e-03, -2.1528e-02, -8.3910e-02, -6.4312e-02, -3.3967e-02,\n",
       "           1.3808e-01,  1.2999e-01,  2.1990e-02, -7.1488e-02,  2.1144e-02,\n",
       "           1.6616e-01, -2.4821e-02,  1.1017e-01, -1.3138e-04, -1.3183e-01,\n",
       "          -1.1360e-01],\n",
       "         [ 1.7584e-02,  7.4779e-02, -1.6147e-01, -1.6412e-01,  1.6038e-01,\n",
       "           8.0217e-02,  6.0199e-02,  7.2723e-02,  2.7575e-02,  1.1853e-01,\n",
       "          -5.7699e-02, -9.0764e-02,  1.3721e-01,  8.7529e-02,  6.9991e-02,\n",
       "           1.3566e-01, -2.1684e-02,  1.2131e-01, -8.8105e-02,  1.3217e-01,\n",
       "          -1.6231e-01,  4.9730e-02, -3.2578e-02,  2.6423e-02,  2.3403e-02,\n",
       "          -1.2778e-01,  2.5289e-02, -1.3448e-01, -5.6527e-02, -1.2474e-01,\n",
       "          -9.6073e-02,  6.6483e-02, -1.1069e-01,  1.4938e-01,  1.5096e-01,\n",
       "           2.2058e-02],\n",
       "         [-1.6007e-01, -1.2892e-01, -1.5980e-01, -9.3664e-02, -7.0956e-02,\n",
       "          -1.5133e-02, -7.6116e-03, -1.5348e-01, -1.3101e-01,  7.8632e-03,\n",
       "           1.0961e-01, -1.1280e-01,  2.1827e-02, -1.3988e-01,  9.2513e-02,\n",
       "           9.6542e-02, -8.4256e-02, -3.7979e-02, -6.7420e-02, -6.7070e-02,\n",
       "           8.0985e-02, -1.1290e-01,  1.5117e-01,  4.6371e-02,  6.4923e-03,\n",
       "           8.7148e-03, -8.3906e-02,  6.3755e-02,  1.2331e-02,  6.6750e-02,\n",
       "           5.2251e-02, -3.4054e-02,  1.0993e-01, -6.5195e-02, -4.1459e-02,\n",
       "           6.0419e-02],\n",
       "         [-3.9162e-02, -6.7719e-03, -8.6043e-02,  8.8589e-02, -5.1771e-02,\n",
       "          -1.5601e-01,  6.9652e-02, -1.2999e-01, -1.5009e-01, -1.2145e-01,\n",
       "          -1.5683e-01,  6.1025e-02,  1.2362e-01,  1.1746e-02,  8.1996e-02,\n",
       "          -2.1087e-02,  9.9352e-02, -5.9365e-02,  3.0961e-02, -4.9630e-02,\n",
       "           6.8455e-02,  1.4919e-01, -2.4619e-02,  1.3149e-01, -1.5788e-01,\n",
       "          -7.0349e-02, -9.5827e-02,  1.5581e-01, -1.2593e-01, -8.5062e-02,\n",
       "           8.6144e-02, -4.8331e-03, -1.2137e-01, -5.2654e-02, -7.8924e-02,\n",
       "          -1.1792e-01]], requires_grad=True),\n",
       " Parameter containing:\n",
       " tensor([-0.0558, -0.1288,  0.0046, -0.0308,  0.1173,  0.1199, -0.0123, -0.0839,\n",
       "         -0.1331,  0.0666,  0.1081,  0.0389,  0.0528, -0.1353,  0.0558, -0.0543,\n",
       "          0.0859,  0.0094], requires_grad=True),\n",
       " Parameter containing:\n",
       " tensor([[ 0.0689,  0.0718, -0.2306, -0.0737, -0.1706, -0.1669, -0.0519,  0.0987,\n",
       "          -0.0298,  0.0940,  0.1277, -0.2252, -0.1614,  0.0074,  0.0456,  0.0625,\n",
       "           0.0498, -0.0153]], requires_grad=True),\n",
       " Parameter containing:\n",
       " tensor([-0.2118], requires_grad=True)]"
      ]
     },
     "execution_count": 10,
     "metadata": {},
     "output_type": "execute_result"
    }
   ],
   "source": [
    "list(model.parameters())"
   ]
  },
  {
   "cell_type": "code",
   "execution_count": 11,
   "id": "1c8906d1",
   "metadata": {},
   "outputs": [],
   "source": [
    "def evaluate(model, val_loader):\n",
    "    outputs = [model.validation_step(batch) for batch in val_loader]\n",
    "    return model.validation_epoch_end(outputs)\n",
    "\n",
    "def fit(epochs, lr, model, train_loader, val_loader, opt_func = torch.optim.SGD):\n",
    "    history = []\n",
    "    optimizer = opt_func(model.parameters(), lr)\n",
    "    for epoch in range(epochs):\n",
    "        # Training Phase \n",
    "        for batch in train_loader:\n",
    "            loss = model.training_step(batch)\n",
    "            loss.backward()\n",
    "            optimizer.step()\n",
    "            optimizer.zero_grad()\n",
    "        # Validation phase\n",
    "        result = evaluate(model, val_loader)\n",
    "        model.epoch_end(epoch, result, epochs)\n",
    "        history.append(result)\n",
    "    return history"
   ]
  },
  {
   "cell_type": "code",
   "execution_count": 12,
   "id": "d8c986ec",
   "metadata": {},
   "outputs": [
    {
     "name": "stdout",
     "output_type": "stream",
     "text": [
      "{'val_loss': 137.30996704101562}\n"
     ]
    },
    {
     "name": "stderr",
     "output_type": "stream",
     "text": [
      "<ipython-input-8-53c0ad504869>:29: UserWarning: Using a target size (torch.Size([9])) that is different to the input size (torch.Size([9, 1])). This will likely lead to incorrect results due to broadcasting. Please ensure they have the same size.\n",
      "  loss = F.l1_loss(input = out, target = targets, size_average = None, reduce = None, reduction = 'mean')\n",
      "<ipython-input-8-53c0ad504869>:29: UserWarning: Using a target size (torch.Size([3])) that is different to the input size (torch.Size([3, 1])). This will likely lead to incorrect results due to broadcasting. Please ensure they have the same size.\n",
      "  loss = F.l1_loss(input = out, target = targets, size_average = None, reduce = None, reduction = 'mean')\n"
     ]
    }
   ],
   "source": [
    "result = evaluate(model, val_loader)\n",
    "print(result)"
   ]
  },
  {
   "cell_type": "code",
   "execution_count": 13,
   "id": "4c4a3ddc",
   "metadata": {},
   "outputs": [
    {
     "name": "stderr",
     "output_type": "stream",
     "text": [
      "<ipython-input-8-53c0ad504869>:21: UserWarning: Using a target size (torch.Size([9])) that is different to the input size (torch.Size([9, 1])). This will likely lead to incorrect results due to broadcasting. Please ensure they have the same size.\n",
      "  loss = F.l1_loss(input = out, target = targets, size_average = None, reduce = None, reduction = 'mean')\n",
      "<ipython-input-8-53c0ad504869>:21: UserWarning: Using a target size (torch.Size([4])) that is different to the input size (torch.Size([4, 1])). This will likely lead to incorrect results due to broadcasting. Please ensure they have the same size.\n",
      "  loss = F.l1_loss(input = out, target = targets, size_average = None, reduce = None, reduction = 'mean')\n",
      "<ipython-input-8-53c0ad504869>:29: UserWarning: Using a target size (torch.Size([9])) that is different to the input size (torch.Size([9, 1])). This will likely lead to incorrect results due to broadcasting. Please ensure they have the same size.\n",
      "  loss = F.l1_loss(input = out, target = targets, size_average = None, reduce = None, reduction = 'mean')\n",
      "<ipython-input-8-53c0ad504869>:29: UserWarning: Using a target size (torch.Size([3])) that is different to the input size (torch.Size([3, 1])). This will likely lead to incorrect results due to broadcasting. Please ensure they have the same size.\n",
      "  loss = F.l1_loss(input = out, target = targets, size_average = None, reduce = None, reduction = 'mean')\n"
     ]
    },
    {
     "name": "stdout",
     "output_type": "stream",
     "text": [
      "Epoch [20], val_loss: 109.2818\n",
      "Epoch [40], val_loss: 89.1054\n",
      "Epoch [60], val_loss: 69.4889\n",
      "Epoch [80], val_loss: 47.2336\n",
      "Epoch [100], val_loss: 20.4574\n",
      "Epoch [120], val_loss: 5.2669\n",
      "Epoch [140], val_loss: 5.2575\n",
      "Epoch [160], val_loss: 5.2575\n",
      "Epoch [180], val_loss: 5.2577\n",
      "Epoch [200], val_loss: 5.2568\n",
      "Epoch [220], val_loss: 5.2552\n",
      "Epoch [240], val_loss: 5.2548\n",
      "Epoch [260], val_loss: 5.2566\n",
      "Epoch [280], val_loss: 5.2554\n",
      "Epoch [300], val_loss: 5.2543\n",
      "Epoch [320], val_loss: 5.2532\n",
      "Epoch [340], val_loss: 5.2518\n",
      "Epoch [360], val_loss: 5.2528\n",
      "Epoch [380], val_loss: 5.2512\n",
      "Epoch [400], val_loss: 5.2510\n",
      "Epoch [420], val_loss: 5.2496\n",
      "Epoch [440], val_loss: 5.2510\n",
      "Epoch [460], val_loss: 5.2487\n",
      "Epoch [480], val_loss: 5.2474\n",
      "Epoch [500], val_loss: 5.2475\n",
      "Epoch [520], val_loss: 5.2478\n",
      "Epoch [540], val_loss: 5.2426\n",
      "Epoch [560], val_loss: 5.2403\n",
      "Epoch [580], val_loss: 5.2372\n",
      "Epoch [600], val_loss: 5.2375\n",
      "Epoch [620], val_loss: 5.2351\n",
      "Epoch [640], val_loss: 5.2337\n",
      "Epoch [660], val_loss: 5.2351\n",
      "Epoch [680], val_loss: 5.2339\n",
      "Epoch [700], val_loss: 5.2329\n",
      "Epoch [720], val_loss: 5.2334\n",
      "Epoch [740], val_loss: 5.2328\n",
      "Epoch [760], val_loss: 5.2341\n",
      "Epoch [780], val_loss: 5.2343\n",
      "Epoch [800], val_loss: 5.2331\n",
      "Epoch [820], val_loss: 5.2322\n",
      "Epoch [840], val_loss: 5.2333\n",
      "Epoch [860], val_loss: 5.2321\n",
      "Epoch [880], val_loss: 5.2316\n",
      "Epoch [900], val_loss: 5.2320\n",
      "Epoch [920], val_loss: 5.2337\n",
      "Epoch [940], val_loss: 5.2314\n",
      "Epoch [960], val_loss: 5.2324\n",
      "Epoch [980], val_loss: 5.2328\n",
      "Epoch [1000], val_loss: 5.2313\n"
     ]
    }
   ],
   "source": [
    "epochs = 1000\n",
    "lr = 1e-7\n",
    "history1 = fit(epochs, lr, model, train_loader, val_loader)"
   ]
  },
  {
   "cell_type": "code",
   "execution_count": 14,
   "id": "e18488a9",
   "metadata": {},
   "outputs": [],
   "source": [
    "def predict_single(input, target, model):\n",
    "    inputs = input.unsqueeze(0)\n",
    "    predictions = model(inputs)                \n",
    "    prediction = predictions[0].detach()\n",
    "    return target, prediction"
   ]
  },
  {
   "cell_type": "code",
   "execution_count": 15,
   "id": "603f4338",
   "metadata": {},
   "outputs": [
    {
     "data": {
      "text/plain": [
       "(tensor(89.2850), tensor([89.5403]))"
      ]
     },
     "execution_count": 15,
     "metadata": {},
     "output_type": "execute_result"
    }
   ],
   "source": [
    "input, target = val_ds[11]\n",
    "predict_single(input, target, model)"
   ]
  },
  {
   "cell_type": "code",
   "execution_count": 16,
   "id": "ab4dcbf9",
   "metadata": {},
   "outputs": [
    {
     "data": {
      "text/plain": [
       "(tensor(125.4380), tensor([89.7986]))"
      ]
     },
     "execution_count": 16,
     "metadata": {},
     "output_type": "execute_result"
    }
   ],
   "source": [
    "input, target = val_ds[50]\n",
    "predict_single(input, target, model)"
   ]
  },
  {
   "cell_type": "code",
   "execution_count": 17,
   "id": "d0bd0a20",
   "metadata": {},
   "outputs": [],
   "source": [
    "targets = []\n",
    "predictions = []\n",
    "for i in range(len(val_ds)):\n",
    "    input, target = val_ds[i]\n",
    "    target, prediction = predict_single(input, target, model)\n",
    "    targets.append(target)\n",
    "    predictions.append(prediction)\n"
   ]
  },
  {
   "cell_type": "code",
   "execution_count": 18,
   "id": "bbb1ef5d",
   "metadata": {
    "scrolled": true
   },
   "outputs": [
    {
     "data": {
      "text/plain": [
       "<matplotlib.collections.PathCollection at 0x1531554e1f0>"
      ]
     },
     "execution_count": 18,
     "metadata": {},
     "output_type": "execute_result"
    },
    {
     "data": {
      "image/png": "[encoded data removed]",
      "text/plain": [
       "<Figure size 1440x720 with 1 Axes>"
      ]
     },
     "metadata": {
      "needs_background": "light"
     },
     "output_type": "display_data"
    }
   ],
   "source": [
    "fig, ax = plt.subplots(figsize=(20, 10))\n",
    "\n",
    "ax.scatter(range(len(predictions)),targets)\n",
    "ax.scatter(range(len(predictions)), predictions)\n"
   ]
  },
  {
   "cell_type": "code",
   "execution_count": null,
   "id": "0bc3ce23",
   "metadata": {},
   "outputs": [],
   "source": []
  },
  {
   "cell_type": "code",
   "execution_count": null,
   "id": "9964388e",
   "metadata": {},
   "outputs": [],
   "source": []
  }
 ],
 "metadata": {
  "kernelspec": {
   "display_name": "Python 3",
   "language": "python",
   "name": "python3"
  },
  "language_info": {
   "codemirror_mode": {
    "name": "ipython",
    "version": 3
   },
   "file_extension": ".py",
   "mimetype": "text/x-python",
   "name": "python",
   "nbconvert_exporter": "python",
   "pygments_lexer": "ipython3",
   "version": "3.8.8"
  }
 },
 "nbformat": 4,
 "nbformat_minor": 5
}
