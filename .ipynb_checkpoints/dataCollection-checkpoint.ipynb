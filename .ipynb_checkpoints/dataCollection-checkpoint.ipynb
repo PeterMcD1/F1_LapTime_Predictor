{
 "cells": [
  {
   "cell_type": "code",
   "execution_count": 1,
   "id": "71c5b78b-1f1a-4465-b8a0-989c28c25450",
   "metadata": {},
   "outputs": [],
   "source": [
    "import fastf1 \n",
    "import numpy as np\n",
    "import csv\n",
    "fastf1.Cache.enable_cache('C:\\\\Users\\\\Helen DuPree\\\\Desktop\\\\cache') #change to your own cache\n",
    "directory = \"fastf1_data/\""
   ]
  },
  {
   "cell_type": "code",
   "execution_count": 2,
   "id": "93f392b4-f6fe-4a98-ba92-e0639718c341",
   "metadata": {},
   "outputs": [],
   "source": [
    "driverCodes = [\"VER\", \"HAM\", \"BOT\", \"RIC\", \"VET\", \"RAI\", \"GIO\", \"HUL\", \"HAR\", \"GAS\", \"SAI\", \"OCO\", \"PER\", \"MAG\", \"GRO\", \"ALO\", \"STR\", \"LEC\", \"SIR\",\"VAN\"] \n",
    "races = [] #TODO\n",
    "attrib = [\"Team\", \"Driver\", \"LapNumber\",\"Compound\", \"Stint\", \"LapTime\", \"TyreLife\", \"FreshTyre\", \"TrackStatus\", \"IsAccurate\"]"
   ]
  },
  {
   "cell_type": "code",
   "execution_count": 3,
   "id": "d55ca41c-34d3-47a7-8967-39129e7f0082",
   "metadata": {},
   "outputs": [
    {
     "name": "stderr",
     "output_type": "stream",
     "text": [
      "core           INFO \tLoading data for Italian Grand Prix - Race [v2.3.0]\n",
      "api            INFO \tUsing cached data for driver_info\n",
      "api            INFO \tUsing cached data for timing_data\n",
      "api            INFO \tUsing cached data for timing_app_data\n",
      "core           INFO \tProcessing timing data...\n",
      "api            INFO \tUsing cached data for session_status_data\n",
      "api            INFO \tUsing cached data for track_status_data\n",
      "api            INFO \tUsing cached data for car_data\n",
      "api            INFO \tUsing cached data for position_data\n",
      "api            INFO \tUsing cached data for weather_data\n",
      "api            INFO \tUsing cached data for race_control_messages\n",
      "core           INFO \tFinished loading data for 20 drivers: ['44', '7', '77', '5', '33', '31', '11', '55', '18', '35', '16', '2', '27', '10', '9', '20', '3', '14', '28', '8']\n"
     ]
    }
   ],
   "source": [
    "#session\n",
    "session = fastf1.get_session(2018, 'Monza', 'R')\n",
    "session.load(telemetry=True,laps=True)\n",
    "for driver in driverCodes:\n",
    "    driverFile = []\n",
    "    laps = session.laps.pick_driver(driver)\n",
    "    for att in attrib:\n",
    "        driverFile.append(laps[att]) \n",
    "    driverFile = np.swapaxes(np.array(driverFile),0,1)\n",
    "    \n",
    "    #lord help you if you need to debug this\n",
    "    driverFix = []\n",
    "    for i in range(1, len(driverFile)):\n",
    "        driverString = \"\"\n",
    "        for j in range(len(driverFile[i])-1):\n",
    "            driverString += str(driverFile[i][j]) +\",\"\n",
    "        driverString += str(driverFile[i][len(attrib)-1])\n",
    "        driverFix.append([driverString])\n",
    "    with open(directory+'monza_'+str(driver)+'_2018.csv', 'w', newline='') as f:\n",
    "        mywriter = csv.writer(f, delimiter=',')\n",
    "        mywriter.writerow([\"Team, Driver, LapNumber,Compound, Stint, LapTime, TyreLife, FreshTyre, TrackStatus, IsAccurate\"])\n",
    "        mywriter.writerows(driverFix)  "
   ]
  },
  {
   "cell_type": "code",
   "execution_count": null,
   "id": "7c2fdce9-ee9f-466f-a4ef-71d09df046f8",
   "metadata": {},
   "outputs": [],
   "source": [
    " "
   ]
  }
 ],
 "metadata": {
  "kernelspec": {
   "display_name": "Python 3",
   "language": "python",
   "name": "python3"
  },
  "language_info": {
   "codemirror_mode": {
    "name": "ipython",
    "version": 3
   },
   "file_extension": ".py",
   "mimetype": "text/x-python",
   "name": "python",
   "nbconvert_exporter": "python",
   "pygments_lexer": "ipython3",
   "version": "3.8.8"
  }
 },
 "nbformat": 4,
 "nbformat_minor": 5
}
